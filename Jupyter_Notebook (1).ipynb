{
 "cells": [
  {
   "cell_type": "markdown",
   "metadata": {},
   "source": [
    "<center>\n",
    "    <img src=\"https://cf-courses-data.s3.us.cloud-object-storage.appdomain.cloud/IBMDeveloperSkillsNetwork-DS0105EN-SkillsNetwork/labs/Module2/images/SN_web_lightmode.png\" width=\"300\" alt=\"cognitiveclass.ai logo\">\n",
    "</center>\n"
   ]
  },
  {
   "cell_type": "markdown",
   "metadata": {},
   "source": [
    "#### Add your code below following the instructions given in the course\n"
   ]
  },
  {
   "cell_type": "markdown",
   "metadata": {},
   "source": [
    "# Data Science Tools and Ecosystem"
   ]
  },
  {
   "cell_type": "markdown",
   "metadata": {},
   "source": [
    "In this notebook, Data Science Tools and Ecosystem are summarized."
   ]
  },
  {
   "cell_type": "markdown",
   "metadata": {},
   "source": [
    "### Data Science Languages\n",
    "\n",
    "Some of the commonly used languages in data science include:\n",
    "\n",
    "- Python\n",
    "- R\n",
    "- SQL\n",
    "- Julia\n",
    "- Scala\n",
    "- Java\n",
    "- MATLAB\n",
    "- SAS\n",
    "- JavaScript\n",
    "- C/C++"
   ]
  },
  {
   "cell_type": "markdown",
   "metadata": {},
   "source": [
    "### Commonly Used Data Science Libraries\n",
    "\n",
    "- **NumPy**: For numerical computing and array operations.\n",
    "- **Pandas**: For data manipulation and analysis.\n",
    "- **Matplotlib**: For creating static, animated, and interactive visualizations.\n",
    "- **Seaborn**: For statistical data visualization built on top of Matplotlib.\n",
    "- **SciPy**: For scientific and technical computing.\n",
    "- **Scikit-Learn**: For machine learning algorithms and data preprocessing.\n",
    "- **TensorFlow**: For deep learning and neural networks.\n",
    "- **PyTorch**: For deep learning with a dynamic computation graph.\n",
    "- **NLTK**: For natural language processing.\n",
    "- **spaCy**: For advanced natural language processing.\n",
    "- **Statsmodels**: For statistical modeling and hypothesis testing.\n",
    "- **Plotly**: For creating interactive plots and dashboards."
   ]
  },
  {
   "cell_type": "markdown",
   "metadata": {},
   "source": [
    "### Data Science Tools\n",
    "\n",
    "| **Tool**             |\n",
    "|----------------------|\n",
    "| Jupyter Notebook     |\n",
    "| RStudio              |\n",
    "| Apache Zeppelin      |\n",
    "| PyCharm              |\n",
    "| Visual Studio Code   |\n",
    "| Google Colab         |\n",
    "| Spyder               |\n",
    "| Tableau              |\n",
    "| KNIME                |"
   ]
  },
  {
   "cell_type": "markdown",
   "metadata": {},
   "source": [
    "### Data Science Tools\n",
    "\n",
    "| **Tool**             |\n",
    "|----------------------|\n",
    "| Jupyter Notebook     |\n",
    "| RStudio              |\n",
    "| Apache Zeppelin      |\n",
    "| PyCharm              |\n",
    "| Visual Studio Code   |\n",
    "| Google Colab         |\n",
    "| Spyder               |\n",
    "| Tableau              |\n",
    "| KNIME                |\n",
    "| Apache Spark         |"
   ]
  },
  {
   "cell_type": "markdown",
   "metadata": {},
   "source": [
    "### Arithmetic Expression Examples\n",
    "\n",
    "Arithmetic expressions are fundamental in programming and data science. They allow us to perform calculations and manipulate numerical data. Below are some common examples of arithmetic expressions:\n",
    "\n",
    "1. **Addition**: \n",
    "   - Example: \\( 5 + 3 \\) results in \\( 8 \\)\n",
    "\n",
    "2. **Subtraction**: \n",
    "   - Example: \\( 10 - 4 \\) results in \\( 6 \\)\n",
    "\n",
    "3. **Multiplication**: \n",
    "   - Example: \\( 7 \\times 2 \\) results in \\( 14 \\)\n",
    "\n",
    "4. **Division**: \n",
    "   - Example: \\( 20 \\div 5 \\) results in \\( 4 \\)\n",
    "\n",
    "5. **Modulus**: \n",
    "   - Example: \\( 10 \\mod 3 \\) results in \\( 1 \\) (the remainder of the division)\n",
    "\n",
    "6. **Exponentiation**: \n",
    "   - Example: \\( 2^3 \\) results in \\( 8 \\)\n",
    "\n",
    "These expressions can be combined to form more complex calculations, making them essential for data analysis and algorithm development.\n"
   ]
  },
  {
   "cell_type": "code",
   "execution_count": 20,
   "metadata": {},
   "outputs": [
    {
     "name": "stdout",
     "output_type": "stream",
     "text": [
      "Result: 25\n"
     ]
    }
   ],
   "source": [
    "# Define two numbers\n",
    "a = 5\n",
    "b = 3\n",
    "\n",
    "# Multiply and add\n",
    "result = (a * b) + 10\n",
    "\n",
    "# Display the result\n",
    "print(\"Result:\", result)\n"
   ]
  },
  {
   "cell_type": "code",
   "execution_count": 21,
   "metadata": {},
   "outputs": [
    {
     "name": "stdout",
     "output_type": "stream",
     "text": [
      "120 minutes is equal to 2.0 hours.\n"
     ]
    }
   ],
   "source": [
    "# Define the number of minutes\n",
    "minutes = 120\n",
    "\n",
    "# Convert minutes to hours\n",
    "hours = minutes / 60\n",
    "\n",
    "# Display the result\n",
    "print(f\"{minutes} minutes is equal to {hours} hours.\")"
   ]
  },
  {
   "cell_type": "markdown",
   "metadata": {},
   "source": [
    "### Objectives\n",
    "\n",
    "- Understand the fundamental concepts of data science.\n",
    "- Learn how to use popular data science tools and libraries.\n",
    "- Acquire skills in data manipulation and analysis.\n",
    "- Develop proficiency in data visualization techniques.\n",
    "- Gain experience in building and evaluating machine learning models.\n",
    "- Understand best practices for communicating data insights.\n",
    "- Apply data science techniques to real-world problems."
   ]
  },
  {
   "cell_type": "markdown",
   "metadata": {},
   "source": [
    "### Author\n",
    "\n",
    "İsmail Dikmen"
   ]
  },
  {
   "cell_type": "code",
   "execution_count": null,
   "metadata": {},
   "outputs": [],
   "source": []
  }
 ],
 "metadata": {
  "kernelspec": {
   "display_name": "Python 3 (ipykernel)",
   "language": "python",
   "name": "python3"
  },
  "language_info": {
   "codemirror_mode": {
    "name": "ipython",
    "version": 3
   },
   "file_extension": ".py",
   "mimetype": "text/x-python",
   "name": "python",
   "nbconvert_exporter": "python",
   "pygments_lexer": "ipython3",
   "version": "3.11.9"
  }
 },
 "nbformat": 4,
 "nbformat_minor": 4
}
